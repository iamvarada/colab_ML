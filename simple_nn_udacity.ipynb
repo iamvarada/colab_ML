{
  "nbformat": 4,
  "nbformat_minor": 0,
  "metadata": {
    "colab": {
      "provenance": [],
      "authorship_tag": "ABX9TyO+0aj5/cVv1ySo3NuRWYwX"
    },
    "kernelspec": {
      "name": "python3",
      "display_name": "Python 3"
    },
    "language_info": {
      "name": "python"
    }
  },
  "cells": [
    {
      "cell_type": "code",
      "execution_count": 6,
      "metadata": {
        "colab": {
          "base_uri": "https://localhost:8080/"
        },
        "id": "Im-Mtcn4hZb_",
        "outputId": "7888b384-92ce-4dd4-ac27-2a37ddc49c1d"
      },
      "outputs": [
        {
          "output_type": "stream",
          "name": "stdout",
          "text": [
            "FInished training\n"
          ]
        }
      ],
      "source": [
        "# Building a single layer model with 1 neuron for predicting celsisu to farenheit conversion\n",
        "\n",
        "import tensorflow as tf\n",
        "\n",
        "import numpy as np\n",
        "\n",
        "\n",
        "# tf.logging.set_verbosity(tf.logging.ERROR)\n",
        "\n",
        "# input data\n",
        "celsisus_q = np.array([-40, -10, 0, 8, 15, 22, 38], dtype=float)\n",
        "\n",
        "# labels\n",
        "farenheit_q = np.array([-40, 14, 32, 46, 59, 72, 100], dtype=float)\n",
        "\n",
        "# create layers (1 neuron, 1 input) -- Dense means fully connected layers in Keras\n",
        "l0 = tf.keras.layers.Dense(units=1, input_shape=[1])\n",
        "\n",
        "# assemble layers into the model (just 1 layer here)\n",
        "\n",
        "model = tf.keras.Sequential([l0])\n",
        "\n",
        "# compile the model, with loss and optimizer functions, learning rate (alpha) b/w 0.001 and 0.1 usually\n",
        "model.compile(loss = 'mean_squared_error', optimizer=tf.keras.optimizers.Adam(0.1))\n",
        "\n",
        "\n",
        "history = model.fit(celsisus_q, farenheit_q, epochs = 500, verbose=False)\n",
        "print(\"FInished training\")\n",
        "\n",
        "\n"
      ]
    },
    {
      "cell_type": "code",
      "source": [
        "# Viewing training statistics\n",
        "\n",
        "import matplotlib.pyplot as plt\n",
        "\n",
        "plt.xlabel(\"Epoch #\")\n",
        "plt.ylabel(\"Loss Magnitude\")\n",
        "plt.plot(history.history['loss'])"
      ],
      "metadata": {
        "colab": {
          "base_uri": "https://localhost:8080/",
          "height": 468
        },
        "id": "a4IDVV2Vk96A",
        "outputId": "d1974639-bc34-42b3-a329-f7f39a27ddbb"
      },
      "execution_count": 7,
      "outputs": [
        {
          "output_type": "execute_result",
          "data": {
            "text/plain": [
              "[<matplotlib.lines.Line2D at 0x7f6aeda07ca0>]"
            ]
          },
          "metadata": {},
          "execution_count": 7
        },
        {
          "output_type": "display_data",
          "data": {
            "text/plain": [
              "<Figure size 640x480 with 1 Axes>"
            ],
            "image/png": "[encoded data removed]"
          },
          "metadata": {}
        }
      ]
    },
    {
      "cell_type": "code",
      "source": [
        "# Prediction step (aka inference)\n",
        "\n",
        "print(model.predict([100]))"
      ],
      "metadata": {
        "colab": {
          "base_uri": "https://localhost:8080/"
        },
        "id": "IJY67WEolepC",
        "outputId": "d5dcb6eb-c6d3-4b4a-fb0b-4bcf2e3a75be"
      },
      "execution_count": 8,
      "outputs": [
        {
          "output_type": "stream",
          "name": "stdout",
          "text": [
            "1/1 [==============================] - 0s 176ms/step\n",
            "[[211.30412]]\n"
          ]
        }
      ]
    },
    {
      "cell_type": "code",
      "source": [
        "# Getting wieghts of the model\n",
        "\n",
        "print(\"layer variables (weight and bias are): {}\".format(l0.get_weights()))"
      ],
      "metadata": {
        "colab": {
          "base_uri": "https://localhost:8080/"
        },
        "id": "1PpAZX1blmlF",
        "outputId": "c9680c1e-f073-4c89-e80a-71c7d6ef2bb2"
      },
      "execution_count": 10,
      "outputs": [
        {
          "output_type": "stream",
          "name": "stdout",
          "text": [
            "layer variables (weights are): [array([[1.8250971]], dtype=float32), array([28.794413], dtype=float32)]\n"
          ]
        }
      ]
    },
    {
      "cell_type": "code",
      "source": [
        "## Building a 3 layer mdoel\n",
        "\n",
        "l0 = tf.keras.layers.Dense(units=4, input_shape=[1])\n",
        "l1 = tf.keras.layers.Dense(units=4)\n",
        "l2 = tf.keras.layers.Dense(units=1)\n",
        "\n",
        "model = tf.keras.Sequential([l0, l1, l2])\n",
        "model.compile(loss = 'mean_squared_error', optimizer = tf.keras.optimizers.Adam(0.1))\n",
        "\n",
        "model.fit(celsisus_q, farenheit_q, epochs = 500, verbose=False)\n",
        "print('Finished training')\n",
        "\n",
        "print(\"Model predicted that 100 deg. C is {} deg. F\".format(model.predict([100.0])))\n",
        "\n",
        "print(\"weights and biases of l0 layer are: {}\".format(l0.get_weights()))\n",
        "print(\"weights and biases of l1 layer are: {}\".format(l1.get_weights()))\n",
        "print(\"weights and biases of l2 layer are: {}\".format(l2.get_weights()))\n",
        "\n"
      ],
      "metadata": {
        "colab": {
          "base_uri": "https://localhost:8080/"
        },
        "id": "2HEa1CcsmRGk",
        "outputId": "f1041f8c-913c-409e-8f6a-7efcb9c3678c"
      },
      "execution_count": 12,
      "outputs": [
        {
          "output_type": "stream",
          "name": "stdout",
          "text": [
            "Finished training\n",
            "1/1 [==============================] - 0s 110ms/step\n",
            "Model predicted that 100 deg. C is [[211.74745]] deg. F\n",
            "weights of l0 layer are: [array([[-0.19359568, -0.36328307, -0.03263087,  0.7010723 ]],\n",
            "      dtype=float32), array([-4.35764   , -3.5914705 ,  0.25278857,  4.146681  ], dtype=float32)]\n",
            "weights of l1 layer are: [array([[-0.81136364,  1.4615333 , -0.37757906, -0.22641183],\n",
            "       [ 0.38840616,  0.26208663, -1.6055704 ,  1.2307813 ],\n",
            "       [-0.09776417, -0.45379972, -0.4670543 ,  0.00984874],\n",
            "       [ 0.90402085, -0.9018629 , -0.49099028,  0.74982077]],\n",
            "      dtype=float32), array([ 2.779722 , -4.157669 ,  1.5816875,  1.264445 ], dtype=float32)]\n",
            "weights of l2 layer are: [array([[ 0.4871945 ],\n",
            "       [-1.3098699 ],\n",
            "       [ 0.51125246],\n",
            "       [ 0.06815808]], dtype=float32), array([4.110024], dtype=float32)]\n"
          ]
        }
      ]
    }
  ]
}